{
 "cells": [
  {
   "cell_type": "code",
   "execution_count": 5,
   "id": "3798780e-343c-4c7a-af98-90bdd31d8d4b",
   "metadata": {},
   "outputs": [],
   "source": [
    "import matplotlib.pyplot as plt\n",
    "import pandas as pd\n",
    "import numpy as np\n",
    "from sklearn.preprocessing import StandardScaler"
   ]
  },
  {
   "cell_type": "code",
   "execution_count": 6,
   "id": "e21316fb-9d62-4979-be19-533fcbe069fb",
   "metadata": {},
   "outputs": [],
   "source": [
    "trainset = pd.read_csv('data/fahrgastzahlen_2022/cleaned.csv', sep=',')\n",
    "testset = pd.read_csv('data/fahrgastzahlen_2023/cleaned.csv', sep=',')"
   ]
  },
  {
   "cell_type": "code",
   "execution_count": 7,
   "id": "603b32c4-7d66-4a67-a1ca-bf4beb9b5064",
   "metadata": {},
   "outputs": [
    {
     "name": "stdout",
     "output_type": "stream",
     "text": [
      "<class 'pandas.core.frame.DataFrame'>\n",
      "RangeIndex: 960951 entries, 0 to 960950\n",
      "Data columns (total 7 columns):\n",
      " #   Column         Non-Null Count   Dtype  \n",
      "---  ------         --------------   -----  \n",
      " 0   Time           960951 non-null  float64\n",
      " 1   Nachtnetz      960951 non-null  int64  \n",
      " 2   Capacity       960951 non-null  float64\n",
      " 3   Occupancy      960951 non-null  float64\n",
      " 4   GPS_Latitude   960951 non-null  float64\n",
      " 5   GPS_Longitude  960951 non-null  float64\n",
      " 6   Weekday        960951 non-null  int64  \n",
      "dtypes: float64(5), int64(2)\n",
      "memory usage: 51.3 MB\n"
     ]
    }
   ],
   "source": [
    "trainset.info()"
   ]
  },
  {
   "cell_type": "code",
   "execution_count": 8,
   "id": "6fe8b6ae-97df-44cd-af8b-764f03c055bc",
   "metadata": {},
   "outputs": [
    {
     "name": "stdout",
     "output_type": "stream",
     "text": [
      "<class 'pandas.core.frame.DataFrame'>\n",
      "RangeIndex: 1127063 entries, 0 to 1127062\n",
      "Data columns (total 7 columns):\n",
      " #   Column         Non-Null Count    Dtype  \n",
      "---  ------         --------------    -----  \n",
      " 0   Time           1127063 non-null  float64\n",
      " 1   Nachtnetz      1127063 non-null  int64  \n",
      " 2   Capacity       1127063 non-null  int64  \n",
      " 3   Occupancy      1127063 non-null  float64\n",
      " 4   GPS_Latitude   1127063 non-null  float64\n",
      " 5   GPS_Longitude  1127063 non-null  float64\n",
      " 6   Weekday        1127063 non-null  int64  \n",
      "dtypes: float64(4), int64(3)\n",
      "memory usage: 60.2 MB\n"
     ]
    }
   ],
   "source": [
    "testset.info()"
   ]
  },
  {
   "cell_type": "code",
   "execution_count": 9,
   "id": "1b9ddb21-fd07-4231-bab7-99a7581a1245",
   "metadata": {},
   "outputs": [],
   "source": [
    "# Fit the scaler on the training set only\n",
    "scaler = StandardScaler()\n",
    "columns_to_normalize = ['Time', 'GPS_Latitude', 'GPS_Longitude',\n",
    "                    # 'Occupancy' not neccesary to norm?\n",
    "                    # 'Capacity' only to use to restore the number of empty seats\n",
    "                       ]\n",
    "scaler.fit(trainset[columns_to_normalize])\n",
    "\n",
    "# Transform both training and test sets\n",
    "trainset[columns_to_normalize] = scaler.transform(trainset[columns_to_normalize])\n",
    "testset[columns_to_normalize] = scaler.transform(testset[columns_to_normalize])"
   ]
  },
  {
   "cell_type": "code",
   "execution_count": 10,
   "id": "c3438597-b189-4c02-94d9-b08a51e7f64a",
   "metadata": {},
   "outputs": [],
   "source": [
    "X_train = trainset.drop(columns=['Capacity', 'Occupancy'])\n",
    "y_train = trainset['Occupancy']\n",
    "X_test = testset.drop(columns=['Capacity', 'Occupancy'])\n",
    "y_test = testset['Occupancy']"
   ]
  },
  {
   "cell_type": "code",
   "execution_count": 11,
   "id": "2c806cb7-f808-47e3-92ea-2edaf05f10b2",
   "metadata": {},
   "outputs": [
    {
     "data": {
      "text/html": [
       "<div>\n",
       "<style scoped>\n",
       "    .dataframe tbody tr th:only-of-type {\n",
       "        vertical-align: middle;\n",
       "    }\n",
       "\n",
       "    .dataframe tbody tr th {\n",
       "        vertical-align: top;\n",
       "    }\n",
       "\n",
       "    .dataframe thead th {\n",
       "        text-align: right;\n",
       "    }\n",
       "</style>\n",
       "<table border=\"1\" class=\"dataframe\">\n",
       "  <thead>\n",
       "    <tr style=\"text-align: right;\">\n",
       "      <th></th>\n",
       "      <th>Time</th>\n",
       "      <th>Nachtnetz</th>\n",
       "      <th>GPS_Latitude</th>\n",
       "      <th>GPS_Longitude</th>\n",
       "      <th>Weekday</th>\n",
       "    </tr>\n",
       "  </thead>\n",
       "  <tbody>\n",
       "    <tr>\n",
       "      <th>0</th>\n",
       "      <td>1.329027</td>\n",
       "      <td>0</td>\n",
       "      <td>0.491249</td>\n",
       "      <td>-1.005551</td>\n",
       "      <td>1</td>\n",
       "    </tr>\n",
       "    <tr>\n",
       "      <th>1</th>\n",
       "      <td>1.329027</td>\n",
       "      <td>0</td>\n",
       "      <td>0.491249</td>\n",
       "      <td>-1.005551</td>\n",
       "      <td>1</td>\n",
       "    </tr>\n",
       "    <tr>\n",
       "      <th>2</th>\n",
       "      <td>1.417528</td>\n",
       "      <td>0</td>\n",
       "      <td>0.491249</td>\n",
       "      <td>-1.005551</td>\n",
       "      <td>1</td>\n",
       "    </tr>\n",
       "    <tr>\n",
       "      <th>3</th>\n",
       "      <td>1.417528</td>\n",
       "      <td>0</td>\n",
       "      <td>0.491249</td>\n",
       "      <td>-1.005551</td>\n",
       "      <td>1</td>\n",
       "    </tr>\n",
       "    <tr>\n",
       "      <th>4</th>\n",
       "      <td>1.506030</td>\n",
       "      <td>0</td>\n",
       "      <td>0.491249</td>\n",
       "      <td>-1.005551</td>\n",
       "      <td>1</td>\n",
       "    </tr>\n",
       "  </tbody>\n",
       "</table>\n",
       "</div>"
      ],
      "text/plain": [
       "       Time  Nachtnetz  GPS_Latitude  GPS_Longitude  Weekday\n",
       "0  1.329027          0      0.491249      -1.005551        1\n",
       "1  1.329027          0      0.491249      -1.005551        1\n",
       "2  1.417528          0      0.491249      -1.005551        1\n",
       "3  1.417528          0      0.491249      -1.005551        1\n",
       "4  1.506030          0      0.491249      -1.005551        1"
      ]
     },
     "execution_count": 11,
     "metadata": {},
     "output_type": "execute_result"
    }
   ],
   "source": [
    "X_train.head()"
   ]
  },
  {
   "cell_type": "code",
   "execution_count": 12,
   "id": "initial_id",
   "metadata": {},
   "outputs": [],
   "source": [
    "from sklearn.metrics import mean_absolute_percentage_error, mean_absolute_error, mean_squared_error\n",
    "\n",
    "def calc_metrics(y_true, y_pred):\n",
    "    mape = mean_absolute_percentage_error(y_true, y_pred)\n",
    "    mae = mean_absolute_error(y_true, y_pred)\n",
    "    mse = mean_squared_error(y_true, y_pred)\n",
    "    \n",
    "    print(f\"\\tMean Absolute Percentage Error (MAPE):\\t{mape}\")\n",
    "    print(f\"\\tMean Absolute Error (MAE):\\t{mae}\")\n",
    "    print(f\"\\tMean Squared Error (MSE):\\t{mse}\")\n",
    "    \n",
    "    return mape, mae, mse"
   ]
  },
  {
   "cell_type": "code",
   "execution_count": 13,
   "id": "8b183b0f23b138a4",
   "metadata": {},
   "outputs": [],
   "source": [
    "def run_models(models, X_train, y_train, X_test, y_test):\n",
    "    metrics = {\"Model\": [], \"MAPE\": [], \"MAE\": [], \"MSE\": []}\n",
    "    \n",
    "    for model_name, model in models.items():\n",
    "        print(f\"Training {model_name}...\")\n",
    "        model.fit(X_train, y_train)\n",
    "        y_pred = model.predict(X_test)\n",
    "        print(f\"Metrics for {model_name}:\")\n",
    "        mape, mae, mse = calc_metrics(y_test, y_pred)\n",
    "        metrics[\"Model\"].append(model_name)\n",
    "        metrics[\"MAPE\"].append(mape)\n",
    "        metrics[\"MAE\"].append(mae)\n",
    "        metrics[\"MSE\"].append(mse)\n",
    "        \n",
    "    return pd.DataFrame.from_dict(metrics)"
   ]
  },
  {
   "cell_type": "code",
   "execution_count": 14,
   "id": "a9958a5fab069409",
   "metadata": {},
   "outputs": [],
   "source": [
    "import seaborn as sns\n",
    "\n",
    "def boxplot_metrics(metrics_df):\n",
    "    ax = sns.boxplot(x=\"Metric\", y=\"MAPE\", data=metrics_df)\n",
    "    ax.set_title(\"MAPE for Different Models\")\n",
    "    plt.show()\n",
    "    \n",
    "    ax = sns.boxplot(x=\"Metric\", y=\"MAE\", data=metrics_df)\n",
    "    ax.set_title(\"MAE for Different Models\")\n",
    "    plt.show()\n",
    "    \n",
    "    ax = sns.boxplot(x=\"Metric\", y=\"MSE\", data=metrics_df)\n",
    "    ax.set_title(\"MSE for Different Models\")\n",
    "    plt.show()"
   ]
  },
  {
   "cell_type": "code",
   "execution_count": null,
   "id": "48dbd20f3c2c4dde",
   "metadata": {},
   "outputs": [
    {
     "name": "stdout",
     "output_type": "stream",
     "text": [
      "Training Linear Regression...\n",
      "Metrics for Linear Regression:\n",
      "\tMean Absolute Percentage Error (MAPE):\t6391532306742.053\n",
      "\tMean Absolute Error (MAE):\t0.17998406745708823\n",
      "\tMean Squared Error (MSE):\t0.054279825619462305\n",
      "Training Random Forest...\n",
      "Metrics for Random Forest:\n",
      "\tMean Absolute Percentage Error (MAPE):\t2065665587694.439\n",
      "\tMean Absolute Error (MAE):\t0.11606559853543401\n",
      "\tMean Squared Error (MSE):\t0.026427907182957636\n",
      "Training Support Vector Machine...\n"
     ]
    }
   ],
   "source": [
    "from sklearn.linear_model import LinearRegression\n",
    "from sklearn.ensemble import RandomForestRegressor\n",
    "from sklearn.svm import SVR\n",
    "\n",
    "# Please read the documentation and try out different hyperparameters (C, gamma, ...)\n",
    "models = {\n",
    "    \"Linear Regression\": LinearRegression(),\n",
    "    \"Random Forest\": RandomForestRegressor(n_estimators=1000, random_state=42),\n",
    "    \"Support Vector Machine\": SVR()\n",
    "}\n",
    "\n",
    "metrics_df = run_models(models, X_train, y_train, X_test, y_test)\n",
    "boxplot_metrics(metrics_df)"
   ]
  },
  {
   "cell_type": "code",
   "execution_count": null,
   "id": "53b1eb38bdcc37a9",
   "metadata": {},
   "outputs": [],
   "source": [
    "# Then select the best model and do the following:\n",
    "from sklearn.feature_selection import SequentialFeatureSelector\n",
    "\n",
    "for n_features in range(1, 11):\n",
    "    model = ... # create a new instance\n",
    "    model_name = ... # set the model name\n",
    "    sfs = SequentialFeatureSelector(model, n_features_to_select=n_features)\n",
    "    sfs.fit(X_train, y_train)\n",
    "    print(f\"Selected features for {n_features} features: {sfs.get_support()}\")\n",
    "    y_pred = model.predict(X_test)\n",
    "    print(f\"Metrics for {model_name}:\")\n",
    "    mape, mae, mse = calc_metrics(y_test, y_pred)"
   ]
  },
  {
   "cell_type": "code",
   "execution_count": null,
   "id": "052bc2df-a22f-4c5f-8662-46a72ef93907",
   "metadata": {},
   "outputs": [],
   "source": []
  }
 ],
 "metadata": {
  "kernelspec": {
   "display_name": "Python 3 (ipykernel)",
   "language": "python",
   "name": "python3"
  },
  "language_info": {
   "codemirror_mode": {
    "name": "ipython",
    "version": 3
   },
   "file_extension": ".py",
   "mimetype": "text/x-python",
   "name": "python",
   "nbconvert_exporter": "python",
   "pygments_lexer": "ipython3",
   "version": "3.11.5"
  }
 },
 "nbformat": 4,
 "nbformat_minor": 5
}
