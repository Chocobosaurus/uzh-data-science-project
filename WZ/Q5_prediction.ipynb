{
 "cells": [
  {
   "cell_type": "code",
   "execution_count": null,
   "id": "f9b1aaa3-29ef-42f9-a203-a319067f69c9",
   "metadata": {},
   "outputs": [],
   "source": [
    "### Predicting target variables using different models\n",
    "\n",
    "## Prepare the training set (2022) and test set (2023) using \n",
    "Q5_datacleaning.ipynb\n",
    "\n",
    "# Data downloaded from:\n",
    "https://data.stadt-zuerich.ch/dataset/vbz_fahrgastzahlen_ogd\n",
    "and\n",
    "https://data.stadt-zuerich.ch/dataset/vbz_fahrzeiten_ogd"
   ]
  },
  {
   "cell_type": "code",
   "execution_count": null,
   "id": "db560b56-5ef5-4070-82b3-bed0982dbb30",
   "metadata": {},
   "outputs": [],
   "source": []
  },
  {
   "cell_type": "code",
   "execution_count": null,
   "id": "f2f55fcb-b22d-4229-9f79-ff3af947aa94",
   "metadata": {},
   "outputs": [],
   "source": [
    "# Normalize the values before using as input\n",
    "from sklearn.preprocessing import StandardScaler\n",
    "\n",
    "# Fit the scaler on the training set only\n",
    "scaler = StandardScaler()\n",
    "columns_to_normalize = ['Besetzung', 'Occupancy', 'Freeseats', 'GPS_Latitude', 'GPS_Longitude']\n",
    "scaler.fit(enc_df[columns_to_normalize])\n",
    "\n",
    "# Transform both training and test sets\n",
    "enc_df[columns_to_normalize] = scaler.transform(enc_df[columns_to_normalize])\n",
    "# X_test[columns_to_normalize] = scaler.transform(X_test[columns_to_normalize])"
   ]
  }
 ],
 "metadata": {
  "kernelspec": {
   "display_name": "Python 3 (ipykernel)",
   "language": "python",
   "name": "python3"
  },
  "language_info": {
   "codemirror_mode": {
    "name": "ipython",
    "version": 3
   },
   "file_extension": ".py",
   "mimetype": "text/x-python",
   "name": "python",
   "nbconvert_exporter": "python",
   "pygments_lexer": "ipython3",
   "version": "3.11.5"
  }
 },
 "nbformat": 4,
 "nbformat_minor": 5
}
