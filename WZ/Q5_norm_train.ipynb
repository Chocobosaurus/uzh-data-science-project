{
 "cells": [
  {
   "cell_type": "markdown",
   "id": "590cf583-4662-43fa-853d-ae9fbdbfdfca",
   "metadata": {},
   "source": [
    "# Predicting target variables using different models\n",
    "\n",
    "### Prepare the training set (2022) and test set (2023) using \n",
    "https://github.com/sagerpascal/uzh-data-science-project/blob/main/WZ/Q5_datacleaning.ipynb\n",
    "\n",
    "### Data downloaded from:\n",
    "https://data.stadt-zuerich.ch/dataset/vbz_fahrgastzahlen_ogd\n",
    "and\n",
    "https://data.stadt-zuerich.ch/dataset/vbz_fahrzeiten_ogd"
   ]
  },
  {
   "cell_type": "code",
   "execution_count": 2,
   "id": "db560b56-5ef5-4070-82b3-bed0982dbb30",
   "metadata": {},
   "outputs": [],
   "source": [
    "import os\n",
    "import matplotlib.pyplot as plt\n",
    "import pandas as pd\n",
    "import numpy as np\n",
    "import math\n",
    "import csv\n",
    "from sklearn.model_selection import GridSearchCV\n",
    "from sklearn.preprocessing import StandardScaler\n",
    "from sklearn.linear_model import LinearRegression\n",
    "from sklearn.svm import SVR\n",
    "from sklearn.ensemble import RandomForestRegressor"
   ]
  },
  {
   "cell_type": "code",
   "execution_count": 3,
   "id": "cea3d823-bd93-4d2a-8df2-89f0f0e69a93",
   "metadata": {},
   "outputs": [],
   "source": [
    "trainset = pd.read_csv('data/fahrgastzahlen_2022/cleaned.csv', sep=',')\n",
    "testset = pd.read_csv('data/fahrgastzahlen_2023/cleaned.csv', sep=',')"
   ]
  },
  {
   "cell_type": "code",
   "execution_count": 4,
   "id": "f3cd7bfa-e3aa-40f6-871f-f200669bbb61",
   "metadata": {},
   "outputs": [
    {
     "name": "stdout",
     "output_type": "stream",
     "text": [
      "<class 'pandas.core.frame.DataFrame'>\n",
      "RangeIndex: 960951 entries, 0 to 960950\n",
      "Data columns (total 7 columns):\n",
      " #   Column         Non-Null Count   Dtype  \n",
      "---  ------         --------------   -----  \n",
      " 0   Time           960951 non-null  float64\n",
      " 1   Nachtnetz      960951 non-null  int64  \n",
      " 2   Capacity       960951 non-null  float64\n",
      " 3   Occupancy      960951 non-null  float64\n",
      " 4   GPS_Latitude   960951 non-null  float64\n",
      " 5   GPS_Longitude  960951 non-null  float64\n",
      " 6   Weekday        960951 non-null  int64  \n",
      "dtypes: float64(5), int64(2)\n",
      "memory usage: 51.3 MB\n"
     ]
    }
   ],
   "source": [
    "trainset.info()"
   ]
  },
  {
   "cell_type": "code",
   "execution_count": 5,
   "id": "8e2dcc6a-2108-4e06-8247-aff4e6b8e2e6",
   "metadata": {},
   "outputs": [
    {
     "name": "stdout",
     "output_type": "stream",
     "text": [
      "<class 'pandas.core.frame.DataFrame'>\n",
      "RangeIndex: 1127063 entries, 0 to 1127062\n",
      "Data columns (total 7 columns):\n",
      " #   Column         Non-Null Count    Dtype  \n",
      "---  ------         --------------    -----  \n",
      " 0   Time           1127063 non-null  float64\n",
      " 1   Nachtnetz      1127063 non-null  int64  \n",
      " 2   Capacity       1127063 non-null  int64  \n",
      " 3   Occupancy      1127063 non-null  float64\n",
      " 4   GPS_Latitude   1127063 non-null  float64\n",
      " 5   GPS_Longitude  1127063 non-null  float64\n",
      " 6   Weekday        1127063 non-null  int64  \n",
      "dtypes: float64(4), int64(3)\n",
      "memory usage: 60.2 MB\n"
     ]
    }
   ],
   "source": [
    "testset.info()"
   ]
  },
  {
   "cell_type": "code",
   "execution_count": 6,
   "id": "f2f55fcb-b22d-4229-9f79-ff3af947aa94",
   "metadata": {},
   "outputs": [],
   "source": [
    "# Fit the scaler on the training set only\n",
    "scaler = StandardScaler()\n",
    "columns_to_normalize = ['Time', 'GPS_Latitude', 'GPS_Longitude',\n",
    "                    # 'Occupancy' not neccesary to norm?\n",
    "                    # 'Capacity' only to use to restore the number of empty seats\n",
    "                       ]\n",
    "scaler.fit(trainset[columns_to_normalize])\n",
    "\n",
    "# Transform both training and test sets\n",
    "trainset[columns_to_normalize] = scaler.transform(trainset[columns_to_normalize])\n",
    "testset[columns_to_normalize] = scaler.transform(testset[columns_to_normalize])"
   ]
  },
  {
   "cell_type": "markdown",
   "id": "77433a42-6b78-4b47-9e2d-ea96603e1f99",
   "metadata": {},
   "source": [
    "### Define Target and Predictor Variables\n",
    "\n",
    "Define what should be predicted, e.g. free seats, number of passengers, etc. It should be a single variable that is used as $y$. Do this for the training and test set.\n",
    "\n",
    "Use all other variables as $X_train$ and $X_test$. Remove all columns in $X_train$ and $X_test$ that basically includes the target value, e.g., we cannot predict a number of free seats but provide the model the number of passengers and the number of seats -> the number of passengers must be removed in this case.\n",
    "\n",
    "### Define some metrics\n",
    "\n",
    "Define some metrics, have a look here:\n",
    "\n",
    "https://scikit-learn.org/stable/modules/model_evaluation.html\n",
    "\n",
    "### Define Some Models\n",
    "\n",
    "- Linear Regression: https://scikit-learn.org/stable/modules/generated/sklearn.linear_model.LinearRegression.html\n",
    "- SVR: https://scikit-learn.org/stable/modules/generated/sklearn.svm.SVR.html\n",
    "  (try RBF kernel) <- never finishes, forget about it\n",
    "- Random Forest: https://scikit-learn.org/stable/modules/generated/sklearn.ensemble.RandomForestRegressor.html\n",
    "\n",
    "For each of these model, define different parameters and try them out using GridSearch: https://scikit-learn.org/stable/modules/generated/sklearn.model_selection.GridSearchCV.html\n",
    "\n",
    "Fit the training data.\n",
    "\n",
    "### Calculate Metrics\n",
    "\n",
    "Calculate the metrics based on the test data (fed into the model using the .predict function). Maybe also plot the results.\n",
    "\n",
    "### Look at feature importance\n",
    "\n",
    "- Linear Regression: Features with higher absolute values of coefficients have a more significant impact on the predicted outcome\n",
    "https://scikit-learn.org/stable/auto_examples/ensemble/plot_forest_importances.html\n",
    "- https://scikit-learn.org/stable/modules/permutation_importance.html\n"
   ]
  },
  {
   "cell_type": "code",
   "execution_count": 7,
   "id": "bbfa220e-b496-43bb-8a6b-0fdc59ad8e45",
   "metadata": {},
   "outputs": [
    {
     "data": {
      "text/html": [
       "<div>\n",
       "<style scoped>\n",
       "    .dataframe tbody tr th:only-of-type {\n",
       "        vertical-align: middle;\n",
       "    }\n",
       "\n",
       "    .dataframe tbody tr th {\n",
       "        vertical-align: top;\n",
       "    }\n",
       "\n",
       "    .dataframe thead th {\n",
       "        text-align: right;\n",
       "    }\n",
       "</style>\n",
       "<table border=\"1\" class=\"dataframe\">\n",
       "  <thead>\n",
       "    <tr style=\"text-align: right;\">\n",
       "      <th></th>\n",
       "      <th>Time</th>\n",
       "      <th>Nachtnetz</th>\n",
       "      <th>GPS_Latitude</th>\n",
       "      <th>GPS_Longitude</th>\n",
       "      <th>Weekday</th>\n",
       "    </tr>\n",
       "  </thead>\n",
       "  <tbody>\n",
       "    <tr>\n",
       "      <th>0</th>\n",
       "      <td>1.329027</td>\n",
       "      <td>0</td>\n",
       "      <td>0.491249</td>\n",
       "      <td>-1.005551</td>\n",
       "      <td>1</td>\n",
       "    </tr>\n",
       "    <tr>\n",
       "      <th>1</th>\n",
       "      <td>1.329027</td>\n",
       "      <td>0</td>\n",
       "      <td>0.491249</td>\n",
       "      <td>-1.005551</td>\n",
       "      <td>1</td>\n",
       "    </tr>\n",
       "    <tr>\n",
       "      <th>2</th>\n",
       "      <td>1.417528</td>\n",
       "      <td>0</td>\n",
       "      <td>0.491249</td>\n",
       "      <td>-1.005551</td>\n",
       "      <td>1</td>\n",
       "    </tr>\n",
       "    <tr>\n",
       "      <th>3</th>\n",
       "      <td>1.417528</td>\n",
       "      <td>0</td>\n",
       "      <td>0.491249</td>\n",
       "      <td>-1.005551</td>\n",
       "      <td>1</td>\n",
       "    </tr>\n",
       "    <tr>\n",
       "      <th>4</th>\n",
       "      <td>1.506030</td>\n",
       "      <td>0</td>\n",
       "      <td>0.491249</td>\n",
       "      <td>-1.005551</td>\n",
       "      <td>1</td>\n",
       "    </tr>\n",
       "  </tbody>\n",
       "</table>\n",
       "</div>"
      ],
      "text/plain": [
       "       Time  Nachtnetz  GPS_Latitude  GPS_Longitude  Weekday\n",
       "0  1.329027          0      0.491249      -1.005551        1\n",
       "1  1.329027          0      0.491249      -1.005551        1\n",
       "2  1.417528          0      0.491249      -1.005551        1\n",
       "3  1.417528          0      0.491249      -1.005551        1\n",
       "4  1.506030          0      0.491249      -1.005551        1"
      ]
     },
     "execution_count": 7,
     "metadata": {},
     "output_type": "execute_result"
    }
   ],
   "source": [
    "X_train = trainset.drop(columns=['Capacity', 'Occupancy'])\n",
    "y_train = trainset['Occupancy']\n",
    "X_train.head()"
   ]
  },
  {
   "cell_type": "code",
   "execution_count": null,
   "id": "29a5ca6e-a6af-42be-b276-221dfd091d26",
   "metadata": {},
   "outputs": [
    {
     "name": "stdout",
     "output_type": "stream",
     "text": [
      "Fitting 5 folds for each of 2 candidates, totalling 10 fits\n",
      "Fitting 5 folds for each of 2 candidates, totalling 10 fits\n",
      "[LibSVM]."
     ]
    }
   ],
   "source": [
    "# Define parameter grids for GridSearchCV\n",
    "param_grid_lr = {'fit_intercept': [True, False]}\n",
    "# param_grid_svr = {'kernel': ['linear', 'rbf'], 'C': [0.1, 1, 10]}\n",
    "param_grid_svr = {'kernel': ['linear'], 'C': [0.1, 1]}\n",
    "# param_grid_rf = {'n_estimators': [100, 200, 300], 'max_depth': [None, 10, 20]}\n",
    "param_grid_rf = {'n_estimators': [100], 'max_depth': [10]}\n",
    "\n",
    "\n",
    "# Initialize models\n",
    "# verbose=1 to show progress\n",
    "lr = LinearRegression()\n",
    "svr = SVR(verbose=1)\n",
    "rf = RandomForestRegressor(verbose=1)\n",
    "\n",
    "# GridSearchCV for Linear Regression\n",
    "grid_lr = GridSearchCV(lr, param_grid_lr, cv=5, verbose=1)\n",
    "grid_lr.fit(X_train, y_train)\n",
    "\n",
    "\n",
    "# GridSearchCV for SVR, use double precision for Qfloat\n",
    "svr_double = SVR(kernel='linear', verbose=1, cache_size=1000) \n",
    "grid_svr = GridSearchCV(svr_double, param_grid_svr, cv=5, verbose=1)\n",
    "grid_svr.fit(X_train, y_train)\n",
    "\n",
    "# GridSearchCV for Random Forest\n",
    "grid_rf = GridSearchCV(rf, param_grid_rf, cv=5, verbose=1)\n",
    "grid_rf.fit(X_train, y_train)\n",
    "\n",
    "# Print best parameters for each model\n",
    "print(\"Best parameters for Linear Regression:\", grid_lr.best_params_)\n",
    "print(\"Best parameters for SVR:\", grid_svr.best_params_)\n",
    "print(\"Best parameters for Random Forest:\", grid_rf.best_params_)\n",
    "\n",
    "# Fit the training data with best parameters\n",
    "best_lr = grid_lr.best_estimator_\n",
    "best_lr.fit(X_train, y_train)\n",
    "\n",
    "best_svr = grid_svr.best_estimator_\n",
    "best_svr.fit(X_train, y_train)\n",
    "\n",
    "best_rf = grid_rf.best_estimator_\n",
    "best_rf.fit(X_train, y_train)\n",
    "\n"
   ]
  },
  {
   "cell_type": "code",
   "execution_count": null,
   "id": "4f64e0e5-d9ed-4276-87dd-d043356952d4",
   "metadata": {},
   "outputs": [],
   "source": [
    "from datetime import datetime\n",
    "from joblib import dump\n",
    "\n",
    "# Get the current date and time\n",
    "timestamp = datetime.now().strftime(\"%Y-%m-%d_%H-%M-%S\")\n",
    "\n",
    "# Define the directory path where you want to save the models\n",
    "directory_path = 'models/'\n",
    "\n",
    "# Define the file names with timestamps and full path\n",
    "lr_model_filename = f'{directory_path}linear_regression_model_{timestamp}.joblib'\n",
    "svr_model_filename = f'{directory_path}svr_model_{timestamp}.joblib'\n",
    "rf_model_filename = f'{directory_path}random_forest_model_{timestamp}.joblib'\n",
    "\n",
    "\n",
    "# Save Linear Regression model\n",
    "dump(best_lr, lr_model_filename)\n",
    "\n",
    "# Save SVR model\n",
    "dump(best_svr, svr_model_filename)\n",
    "\n",
    "# Save Random Forest model\n",
    "dump(best_rf, rf_model_filename)\n",
    "\n",
    "# Save scaler\n",
    "dump(scaler, 'scaler.joblib')"
   ]
  },
  {
   "cell_type": "code",
   "execution_count": null,
   "id": "ce6dad1e-e129-4374-b1a5-33bacdc8e3b0",
   "metadata": {},
   "outputs": [],
   "source": [
    "# Import necessary libraries\n",
    "from sklearn.metrics import r2_score\n",
    "\n",
    "# Predict on the test set\n",
    "y_pred_lr = best_lr.predict(X_test_scaled)\n",
    "y_pred_svr = best_svr.predict(X_test_scaled)\n",
    "y_pred_rf = best_rf.predict(X_test_scaled)\n",
    "\n",
    "# Calculate R^2 score for each model\n",
    "r2_lr = r2_score(y_test, y_pred_lr)\n",
    "r2_svr = r2_score(y_test, y_pred_svr)\n",
    "r2_rf = r2_score(y_test, y_pred_rf)\n",
    "\n",
    "print(\"Linear Regression R^2 Score:\", r2_lr)\n",
    "print(\"SVR R^2 Score:\", r2_svr)\n",
    "print(\"Random Forest R^2 Score:\", r2_rf)\n"
   ]
  },
  {
   "cell_type": "code",
   "execution_count": null,
   "id": "5deccd95-fda3-48c4-8a77-9897ffd6ddd2",
   "metadata": {},
   "outputs": [],
   "source": [
    "# Inverse transform the scaled target variable\n",
    "y_test_scaled_inverse = scaler.inverse_transform(y_test_scaled.reshape(-1, 1)).flatten()\n"
   ]
  },
  {
   "cell_type": "code",
   "execution_count": null,
   "id": "0f664f70-9dd0-4cfc-b04e-0e9125b27e2c",
   "metadata": {},
   "outputs": [],
   "source": [
    "# Note: change output to occupancy from next time"
   ]
  }
 ],
 "metadata": {
  "kernelspec": {
   "display_name": "Python 3 (ipykernel)",
   "language": "python",
   "name": "python3"
  },
  "language_info": {
   "codemirror_mode": {
    "name": "ipython",
    "version": 3
   },
   "file_extension": ".py",
   "mimetype": "text/x-python",
   "name": "python",
   "nbconvert_exporter": "python",
   "pygments_lexer": "ipython3",
   "version": "3.11.5"
  }
 },
 "nbformat": 4,
 "nbformat_minor": 5
}
