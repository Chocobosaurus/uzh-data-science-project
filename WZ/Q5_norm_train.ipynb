{
 "cells": [
  {
   "cell_type": "markdown",
   "id": "590cf583-4662-43fa-853d-ae9fbdbfdfca",
   "metadata": {},
   "source": [
    "# Predicting target variables using different models\n",
    "\n",
    "### Prepare the training set (2022) and test set (2023) using \n",
    "https://github.com/sagerpascal/uzh-data-science-project/blob/main/WZ/Q5_datacleaning.ipynb\n",
    "\n",
    "### Data downloaded from:\n",
    "https://data.stadt-zuerich.ch/dataset/vbz_fahrgastzahlen_ogd\n",
    "and\n",
    "https://data.stadt-zuerich.ch/dataset/vbz_fahrzeiten_ogd"
   ]
  },
  {
   "cell_type": "code",
   "execution_count": 1,
   "id": "db560b56-5ef5-4070-82b3-bed0982dbb30",
   "metadata": {},
   "outputs": [],
   "source": [
    "import os\n",
    "import matplotlib.pyplot as plt\n",
    "import pandas as pd\n",
    "import numpy as np\n",
    "import math\n",
    "import csv\n",
    "import seaborn as sns\n",
    "import matplotlib.pyplot as plt\n",
    "import statsmodels.formula.api as sm\n",
    "import statsmodels.api as sma \n",
    "from sklearn import (linear_model, datasets, metrics,\n",
    "                     discriminant_analysis)"
   ]
  },
  {
   "cell_type": "code",
   "execution_count": 2,
   "id": "cea3d823-bd93-4d2a-8df2-89f0f0e69a93",
   "metadata": {},
   "outputs": [],
   "source": [
    "trainset = pd.read_csv('data/fahrgastzahlen_2022/cleaned.csv', sep=',')\n",
    "testset = pd.read_csv('data/fahrgastzahlen_2023/cleaned.csv', sep=',')"
   ]
  },
  {
   "cell_type": "code",
   "execution_count": 3,
   "id": "f3cd7bfa-e3aa-40f6-871f-f200669bbb61",
   "metadata": {},
   "outputs": [
    {
     "name": "stdout",
     "output_type": "stream",
     "text": [
      "<class 'pandas.core.frame.DataFrame'>\n",
      "RangeIndex: 960951 entries, 0 to 960950\n",
      "Data columns (total 14 columns):\n",
      " #   Column         Non-Null Count   Dtype  \n",
      "---  ------         --------------   -----  \n",
      " 0   Time           960951 non-null  float64\n",
      " 1   Besetzung      960951 non-null  float64\n",
      " 2   Tage_SA        960951 non-null  int64  \n",
      " 3   Tage_SO        960951 non-null  int64  \n",
      " 4   Nachtnetz      960951 non-null  int64  \n",
      " 5   Tage_SA_N      960951 non-null  int64  \n",
      " 6   Tage_SO_N      960951 non-null  int64  \n",
      " 7   Occupancy      960951 non-null  float64\n",
      " 8   Freeseats      960951 non-null  float64\n",
      " 9   GPS_Latitude   960951 non-null  float64\n",
      " 10  GPS_Longitude  960951 non-null  float64\n",
      " 11  Weekday        960951 non-null  int64  \n",
      " 12  Richtung_1     960951 non-null  bool   \n",
      " 13  Richtung_2     960951 non-null  bool   \n",
      "dtypes: bool(2), float64(6), int64(6)\n",
      "memory usage: 89.8 MB\n"
     ]
    }
   ],
   "source": [
    "trainset.info()"
   ]
  },
  {
   "cell_type": "code",
   "execution_count": 4,
   "id": "8e2dcc6a-2108-4e06-8247-aff4e6b8e2e6",
   "metadata": {},
   "outputs": [
    {
     "name": "stdout",
     "output_type": "stream",
     "text": [
      "<class 'pandas.core.frame.DataFrame'>\n",
      "RangeIndex: 1127063 entries, 0 to 1127062\n",
      "Data columns (total 14 columns):\n",
      " #   Column         Non-Null Count    Dtype  \n",
      "---  ------         --------------    -----  \n",
      " 0   Time           1127063 non-null  float64\n",
      " 1   Besetzung      1127063 non-null  float64\n",
      " 2   Tage_SA        1127063 non-null  int64  \n",
      " 3   Tage_SO        1127063 non-null  int64  \n",
      " 4   Nachtnetz      1127063 non-null  int64  \n",
      " 5   Tage_SA_N      1127063 non-null  int64  \n",
      " 6   Tage_SO_N      1127063 non-null  int64  \n",
      " 7   Occupancy      1127063 non-null  float64\n",
      " 8   Freeseats      1127063 non-null  float64\n",
      " 9   GPS_Latitude   1127063 non-null  float64\n",
      " 10  GPS_Longitude  1127063 non-null  float64\n",
      " 11  Weekday        1127063 non-null  int64  \n",
      " 12  Richtung_1     1127063 non-null  bool   \n",
      " 13  Richtung_2     1127063 non-null  bool   \n",
      "dtypes: bool(2), float64(6), int64(6)\n",
      "memory usage: 105.3 MB\n"
     ]
    }
   ],
   "source": [
    "testset.info()"
   ]
  },
  {
   "cell_type": "code",
   "execution_count": 5,
   "id": "f2f55fcb-b22d-4229-9f79-ff3af947aa94",
   "metadata": {},
   "outputs": [],
   "source": [
    "# Normalize the values before using as input\n",
    "from sklearn.preprocessing import StandardScaler\n",
    "\n",
    "# Fit the scaler on the training set only\n",
    "scaler = StandardScaler()\n",
    "columns_to_normalize = ['Time', 'Besetzung', 'Occupancy', 'Freeseats', 'GPS_Latitude', 'GPS_Longitude']\n",
    "scaler.fit(trainset[columns_to_normalize])\n",
    "\n",
    "# Transform both training and test sets\n",
    "trainset[columns_to_normalize] = scaler.transform(trainset[columns_to_normalize])\n",
    "testset[columns_to_normalize] = scaler.transform(testset[columns_to_normalize])"
   ]
  },
  {
   "cell_type": "markdown",
   "id": "77433a42-6b78-4b47-9e2d-ea96603e1f99",
   "metadata": {},
   "source": [
    "### Define Target and Predictor Variables\n",
    "\n",
    "Define what should be predicted, e.g. free seats, number of passengers, etc. It should be a single variable that is used as $y$. Do this for the training and test set.\n",
    "\n",
    "Use all other variables as $X_train$ and $X_test$. Remove all columns in $X_train$ and $X_test$ that basically includes the target value, e.g., we cannot predict a number of free seats but provide the model the number of passengers and the number of seats -> the number of passengers must be removed in this case.\n",
    "\n",
    "### Define some metrics\n",
    "\n",
    "Define some metrics, have a look here:\n",
    "\n",
    "https://scikit-learn.org/stable/modules/model_evaluation.html\n",
    "\n",
    "### Define Some Models\n",
    "\n",
    "I would suggest to use:\n",
    "\n",
    "- Linear Regression: https://scikit-learn.org/stable/modules/generated/sklearn.linear_model.LinearRegression.html\n",
    "- SVR: https://scikit-learn.org/stable/modules/generated/sklearn.svm.SVR.html\n",
    "- Random Forest: https://scikit-learn.org/stable/modules/generated/sklearn.ensemble.RandomForestRegressor.html\n",
    "\n",
    "For each of these model, define different parameters and try them out using GridSearch: https://scikit-learn.org/stable/modules/generated/sklearn.model_selection.GridSearchCV.html\n",
    "\n",
    "Fit the training data.\n",
    "\n",
    "### Calculate Metrics\n",
    "\n",
    "Calculate the metrics based on the test data (fed into the model using the .predict function). Maybe also plot the results.\n",
    "\n",
    "### Look at feature importance\n",
    "\n",
    "- Linear Regression: Features with higher absolute values of coefficients have a more significant impact on the predicted outcome\n",
    "https://scikit-learn.org/stable/auto_examples/ensemble/plot_forest_importances.html\n",
    "- https://scikit-learn.org/stable/modules/permutation_importance.html\n"
   ]
  },
  {
   "cell_type": "code",
   "execution_count": 6,
   "id": "29a5ca6e-a6af-42be-b276-221dfd091d26",
   "metadata": {},
   "outputs": [
    {
     "name": "stdout",
     "output_type": "stream",
     "text": [
      "Shape of X: (960951, 11)\n",
      "Shape of y: (960951,)\n",
      "Index(['Time', 'Tage_SA', 'Tage_SO', 'Nachtnetz', 'Tage_SA_N', 'Tage_SO_N',\n",
      "       'GPS_Latitude', 'GPS_Longitude', 'Weekday', 'Richtung_1', 'Richtung_2'],\n",
      "      dtype='object')\n"
     ]
    }
   ],
   "source": [
    "# Define feature variables and target variables\n",
    "# Target variable set as 'Freeseats' here\n",
    "X = trainset.drop(columns = ['Besetzung', 'Occupancy', 'Freeseats'])\n",
    "y = trainset['Freeseats']\n",
    "print(\"Shape of X:\", X.shape)\n",
    "print(\"Shape of y:\", y.shape)\n",
    "print(X.columns)"
   ]
  },
  {
   "cell_type": "code",
   "execution_count": 7,
   "id": "4f64e0e5-d9ed-4276-87dd-d043356952d4",
   "metadata": {},
   "outputs": [],
   "source": [
    "X_array = np.asarray(X)\n",
    "y_array = np.asarray(y)\n",
    "X_array = X.astype(float).values"
   ]
  },
  {
   "cell_type": "code",
   "execution_count": 8,
   "id": "ce6dad1e-e129-4374-b1a5-33bacdc8e3b0",
   "metadata": {},
   "outputs": [
    {
     "name": "stdout",
     "output_type": "stream",
     "text": [
      "                            OLS Regression Results                            \n",
      "==============================================================================\n",
      "Dep. Variable:                      y   R-squared:                       0.047\n",
      "Model:                            OLS   Adj. R-squared:                  0.047\n",
      "Method:                 Least Squares   F-statistic:                     5875.\n",
      "Date:                Mon, 13 May 2024   Prob (F-statistic):               0.00\n",
      "Time:                        23:08:33   Log-Likelihood:            -1.3406e+06\n",
      "No. Observations:              960951   AIC:                         2.681e+06\n",
      "Df Residuals:                  960942   BIC:                         2.681e+06\n",
      "Df Model:                           8                                         \n",
      "Covariance Type:            nonrobust                                         \n",
      "==============================================================================\n",
      "                 coef    std err          t      P>|t|      [0.025      0.975]\n",
      "------------------------------------------------------------------------------\n",
      "x1            -0.0867      0.001    -84.402      0.000      -0.089      -0.085\n",
      "x2             0.0592      0.002     29.088      0.000       0.055       0.063\n",
      "x3             0.2161      0.002     96.951      0.000       0.212       0.220\n",
      "x4            -0.4275      0.005    -83.776      0.000      -0.438      -0.418\n",
      "x5            -0.1741      0.009    -19.874      0.000      -0.191      -0.157\n",
      "x6            -0.2534      0.009    -28.847      0.000      -0.271      -0.236\n",
      "x7            -0.0161      0.001    -15.489      0.000      -0.018      -0.014\n",
      "x8             0.1731      0.001    166.608      0.000       0.171       0.175\n",
      "x9             0.0299      0.002     18.897      0.000       0.027       0.033\n",
      "x10           -0.0608      0.002    -39.541      0.000      -0.064      -0.058\n",
      "x11           -0.0616      0.002    -40.028      0.000      -0.065      -0.059\n",
      "==============================================================================\n",
      "Omnibus:                    31569.674   Durbin-Watson:                   0.469\n",
      "Prob(Omnibus):                  0.000   Jarque-Bera (JB):            34764.413\n",
      "Skew:                           0.465   Prob(JB):                         0.00\n",
      "Kurtosis:                       2.940   Cond. No.                     5.10e+16\n",
      "==============================================================================\n",
      "\n",
      "Notes:\n",
      "[1] Standard Errors assume that the covariance matrix of the errors is correctly specified.\n",
      "[2] The smallest eigenvalue is 4.74e-28. This might indicate that there are\n",
      "strong multicollinearity problems or that the design matrix is singular.\n"
     ]
    }
   ],
   "source": [
    "model = sma.OLS(y_array, X_array).fit()\n",
    "print(model.summary())"
   ]
  },
  {
   "cell_type": "code",
   "execution_count": null,
   "id": "5deccd95-fda3-48c4-8a77-9897ffd6ddd2",
   "metadata": {},
   "outputs": [],
   "source": [
    "# Looking suspicious"
   ]
  }
 ],
 "metadata": {
  "kernelspec": {
   "display_name": "Python 3 (ipykernel)",
   "language": "python",
   "name": "python3"
  },
  "language_info": {
   "codemirror_mode": {
    "name": "ipython",
    "version": 3
   },
   "file_extension": ".py",
   "mimetype": "text/x-python",
   "name": "python",
   "nbconvert_exporter": "python",
   "pygments_lexer": "ipython3",
   "version": "3.11.5"
  }
 },
 "nbformat": 4,
 "nbformat_minor": 5
}
